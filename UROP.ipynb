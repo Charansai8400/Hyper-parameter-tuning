{
  "nbformat": 4,
  "nbformat_minor": 0,
  "metadata": {
    "colab": {
      "provenance": []
    },
    "kernelspec": {
      "name": "python3",
      "display_name": "Python 3"
    },
    "language_info": {
      "name": "python"
    }
  },
  "cells": [
    {
      "cell_type": "markdown",
      "source": [
        "Import Libraries"
      ],
      "metadata": {
        "id": "obeQy4isWauI"
      }
    },
    {
      "cell_type": "code",
      "source": [
        "import numpy as np\n",
        "import pandas as pd\n",
        "from sklearn.model_selection import train_test_split\n",
        "from sklearn.preprocessing import StandardScaler, LabelEncoder\n",
        "from tensorflow.keras.models import Sequential\n",
        "from tensorflow.keras.layers import Dense, Dropout\n",
        "from tensorflow.keras.utils import to_categorical"
      ],
      "metadata": {
        "id": "dLoGGVUWWclz"
      },
      "execution_count": 1,
      "outputs": []
    },
    {
      "cell_type": "markdown",
      "source": [
        "Read the File"
      ],
      "metadata": {
        "id": "DQrSnDlEWe3s"
      }
    },
    {
      "cell_type": "code",
      "source": [
        "data = pd.read_csv(\"/content/urop.csv\")"
      ],
      "metadata": {
        "id": "G34FLbY8WgY2"
      },
      "execution_count": 2,
      "outputs": []
    },
    {
      "cell_type": "markdown",
      "source": [
        "Assign dependent data and independent data to variables x and y"
      ],
      "metadata": {
        "id": "ilsJu6fNWiqC"
      }
    },
    {
      "cell_type": "code",
      "source": [
        "X = data.drop(['ID_REF','subtype'], axis=1).values\n",
        "y = data['subtype'].values"
      ],
      "metadata": {
        "id": "FXBcm7i8WqzN"
      },
      "execution_count": 3,
      "outputs": []
    },
    {
      "cell_type": "markdown",
      "source": [
        "Perform encoding to dependent data"
      ],
      "metadata": {
        "id": "_8NMyRUdWzrQ"
      }
    },
    {
      "cell_type": "code",
      "source": [
        "label_encoder = LabelEncoder()\n",
        "y_encoded = label_encoder.fit_transform(y)\n",
        "y_one_hot = to_categorical(y_encoded)"
      ],
      "metadata": {
        "id": "WyGd3Ly-W3DY"
      },
      "execution_count": 4,
      "outputs": []
    },
    {
      "cell_type": "markdown",
      "source": [
        "Split the dataset"
      ],
      "metadata": {
        "id": "Rz_gCUZVWtUT"
      }
    },
    {
      "cell_type": "code",
      "source": [
        "X_train, X_test, y_train, y_test = train_test_split(X, y_one_hot, test_size=0.2, random_state=42)"
      ],
      "metadata": {
        "id": "OOXp1zNlWs-p"
      },
      "execution_count": 5,
      "outputs": []
    },
    {
      "cell_type": "markdown",
      "source": [
        "Standardise the data"
      ],
      "metadata": {
        "id": "QhPpOSb8W7ZZ"
      }
    },
    {
      "cell_type": "code",
      "source": [
        "scaler = StandardScaler()\n",
        "X_train_scaled = scaler.fit_transform(X_train)\n",
        "X_test_scaled = scaler.transform(X_test)"
      ],
      "metadata": {
        "id": "IoV5zQjHW_3t"
      },
      "execution_count": 6,
      "outputs": []
    },
    {
      "cell_type": "markdown",
      "source": [
        "Build the ANN model"
      ],
      "metadata": {
        "id": "KavovC0wXHJa"
      }
    },
    {
      "cell_type": "code",
      "source": [
        "model = Sequential()\n",
        "model.add(Dense(128, input_dim=X_train.shape[1], activation='relu'))\n",
        "model.add(Dropout(0.2))\n",
        "model.add(Dense(64, activation='relu'))\n",
        "model.add(Dropout(0.2))\n",
        "model.add(Dense(32, activation='relu'))\n",
        "model.add(Dropout(0.2))\n",
        "model.add(Dense(len(label_encoder.classes_), activation='softmax'))\n",
        "model.summary"
      ],
      "metadata": {
        "colab": {
          "base_uri": "https://localhost:8080/"
        },
        "id": "REH63qmMXAkI",
        "outputId": "315e4eb3-cda2-4ba5-f44d-5eb3e1125456"
      },
      "execution_count": 7,
      "outputs": [
        {
          "output_type": "execute_result",
          "data": {
            "text/plain": [
              "<bound method Model.summary of <keras.src.engine.sequential.Sequential object at 0x78fa7a973310>>"
            ]
          },
          "metadata": {},
          "execution_count": 7
        }
      ]
    },
    {
      "cell_type": "code",
      "source": [
        "model.compile(loss='categorical_crossentropy', optimizer='adam', metrics=['accuracy'])\n",
        "model.fit(X_train_scaled, y_train, epochs=10, batch_size=32)"
      ],
      "metadata": {
        "colab": {
          "base_uri": "https://localhost:8080/"
        },
        "id": "eHiMXZLiXJEF",
        "outputId": "dba89225-03c3-4ac9-ba6f-4fbe34c686eb"
      },
      "execution_count": 8,
      "outputs": [
        {
          "output_type": "stream",
          "name": "stdout",
          "text": [
            "Epoch 1/10\n",
            "3/3 [==============================] - 2s 11ms/step - loss: 1.2477 - accuracy: 0.3659\n",
            "Epoch 2/10\n",
            "3/3 [==============================] - 0s 8ms/step - loss: 1.0674 - accuracy: 0.4756\n",
            "Epoch 3/10\n",
            "3/3 [==============================] - 0s 7ms/step - loss: 0.9811 - accuracy: 0.5000\n",
            "Epoch 4/10\n",
            "3/3 [==============================] - 0s 8ms/step - loss: 0.9777 - accuracy: 0.5732\n",
            "Epoch 5/10\n",
            "3/3 [==============================] - 0s 9ms/step - loss: 0.8790 - accuracy: 0.6341\n",
            "Epoch 6/10\n",
            "3/3 [==============================] - 0s 8ms/step - loss: 0.7667 - accuracy: 0.6829\n",
            "Epoch 7/10\n",
            "3/3 [==============================] - 0s 7ms/step - loss: 0.8145 - accuracy: 0.6463\n",
            "Epoch 8/10\n",
            "3/3 [==============================] - 0s 8ms/step - loss: 0.8353 - accuracy: 0.6220\n",
            "Epoch 9/10\n",
            "3/3 [==============================] - 0s 9ms/step - loss: 0.8871 - accuracy: 0.6098\n",
            "Epoch 10/10\n",
            "3/3 [==============================] - 0s 10ms/step - loss: 0.7399 - accuracy: 0.6829\n"
          ]
        },
        {
          "output_type": "execute_result",
          "data": {
            "text/plain": [
              "<keras.src.callbacks.History at 0x78fa78133c70>"
            ]
          },
          "metadata": {},
          "execution_count": 8
        }
      ]
    },
    {
      "cell_type": "markdown",
      "source": [
        "Test the model with testing data"
      ],
      "metadata": {
        "id": "eYxxYA-LXOgF"
      }
    },
    {
      "cell_type": "code",
      "source": [
        "accuracy = model.evaluate(X_test_scaled, y_test)[1]\n",
        "print(f'Test Accuracy:{accuracy*100:.2f}%')"
      ],
      "metadata": {
        "colab": {
          "base_uri": "https://localhost:8080/"
        },
        "id": "SH7khXuDXRbP",
        "outputId": "f13f2b3a-7a95-494e-91ba-e50f2412c89b"
      },
      "execution_count": 9,
      "outputs": [
        {
          "output_type": "stream",
          "name": "stdout",
          "text": [
            "1/1 [==============================] - 0s 311ms/step - loss: 1.1347 - accuracy: 0.5238\n",
            "Test Accuracy:52.38%\n"
          ]
        }
      ]
    }
  ]
}